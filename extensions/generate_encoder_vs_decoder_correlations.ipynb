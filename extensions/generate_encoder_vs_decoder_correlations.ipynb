{
 "cells": [
  {
   "cell_type": "code",
   "execution_count": 170,
   "metadata": {
    "collapsed": true
   },
   "outputs": [],
   "source": [
    "import os\n",
    "import numpy as np\n",
    "import pandas as pd\n",
    "\n",
    "import torch\n",
    "from torchvision.datasets import MNIST\n",
    "from captum.attr import GradientShap\n",
    "\n",
    "from torch.utils.data import DataLoader, Dataset\n",
    "from torchvision import transforms\n",
    "\n",
    "from lfxai.explanations.features import AuxiliaryFunction, attribute_auxiliary\n",
    "from scipy.stats import spearmanr\n",
    "\n",
    "from lfxai.models.images import ClassifierMnist, EncoderMnist\n",
    "import copy\n",
    "\n",
    "from matplotlib import pyplot as plt"
   ]
  },
  {
   "cell_type": "code",
   "execution_count": 14,
   "outputs": [],
   "source": [
    "# Basic setup\n",
    "torch.random.manual_seed(123)\n",
    "batch_size = 128\n",
    "device = 'cpu'\n",
    "\n",
    "# Model Args\n",
    "image_height = 28\n",
    "dim_latent = 4"
   ],
   "metadata": {
    "collapsed": false
   }
  },
  {
   "cell_type": "code",
   "execution_count": 5,
   "outputs": [
    {
     "name": "stdout",
     "output_type": "stream",
     "text": [
      "Downloading http://yann.lecun.com/exdb/mnist/train-images-idx3-ubyte.gz to data/mnist\\MNIST\\raw\\train-images-idx3-ubyte.gz\n"
     ]
    },
    {
     "data": {
      "text/plain": "  0%|          | 0/9912422 [00:00<?, ?it/s]",
      "application/vnd.jupyter.widget-view+json": {
       "version_major": 2,
       "version_minor": 0,
       "model_id": "2326194508024b5c9061c3e0baaf3ba6"
      }
     },
     "metadata": {},
     "output_type": "display_data"
    },
    {
     "name": "stdout",
     "output_type": "stream",
     "text": [
      "Extracting data/mnist\\MNIST\\raw\\train-images-idx3-ubyte.gz to data/mnist\\MNIST\\raw\n",
      "\n",
      "Downloading http://yann.lecun.com/exdb/mnist/train-labels-idx1-ubyte.gz\n",
      "Downloading http://yann.lecun.com/exdb/mnist/train-labels-idx1-ubyte.gz to data/mnist\\MNIST\\raw\\train-labels-idx1-ubyte.gz\n"
     ]
    },
    {
     "data": {
      "text/plain": "  0%|          | 0/28881 [00:00<?, ?it/s]",
      "application/vnd.jupyter.widget-view+json": {
       "version_major": 2,
       "version_minor": 0,
       "model_id": "29a46fcbbc2944e2a12d5f34fec7f281"
      }
     },
     "metadata": {},
     "output_type": "display_data"
    },
    {
     "name": "stdout",
     "output_type": "stream",
     "text": [
      "Extracting data/mnist\\MNIST\\raw\\train-labels-idx1-ubyte.gz to data/mnist\\MNIST\\raw\n",
      "\n",
      "Downloading http://yann.lecun.com/exdb/mnist/t10k-images-idx3-ubyte.gz\n",
      "Downloading http://yann.lecun.com/exdb/mnist/t10k-images-idx3-ubyte.gz to data/mnist\\MNIST\\raw\\t10k-images-idx3-ubyte.gz\n"
     ]
    },
    {
     "data": {
      "text/plain": "  0%|          | 0/1648877 [00:00<?, ?it/s]",
      "application/vnd.jupyter.widget-view+json": {
       "version_major": 2,
       "version_minor": 0,
       "model_id": "9d66f13d6ddf46bba2991adf8bae40fd"
      }
     },
     "metadata": {},
     "output_type": "display_data"
    },
    {
     "name": "stdout",
     "output_type": "stream",
     "text": [
      "Extracting data/mnist\\MNIST\\raw\\t10k-images-idx3-ubyte.gz to data/mnist\\MNIST\\raw\n",
      "\n",
      "Downloading http://yann.lecun.com/exdb/mnist/t10k-labels-idx1-ubyte.gz\n",
      "Downloading http://yann.lecun.com/exdb/mnist/t10k-labels-idx1-ubyte.gz to data/mnist\\MNIST\\raw\\t10k-labels-idx1-ubyte.gz\n"
     ]
    },
    {
     "data": {
      "text/plain": "  0%|          | 0/4542 [00:00<?, ?it/s]",
      "application/vnd.jupyter.widget-view+json": {
       "version_major": 2,
       "version_minor": 0,
       "model_id": "0bd6ae6ffedb4d35b1d969297b332a77"
      }
     },
     "metadata": {},
     "output_type": "display_data"
    },
    {
     "name": "stdout",
     "output_type": "stream",
     "text": [
      "Extracting data/mnist\\MNIST\\raw\\t10k-labels-idx1-ubyte.gz to data/mnist\\MNIST\\raw\n",
      "\n"
     ]
    }
   ],
   "source": [
    "# Data loading\n",
    "data_dir = \"data/mnist\"\n",
    "shared_transform = transforms.Compose([transforms.ToTensor()])\n",
    "\n",
    "train_dataset = MNIST(data_dir, train=True, download=True, transform=shared_transform\n",
    "                                           )\n",
    "test_dataset = MNIST(data_dir, train=False, download=True, transform=shared_transform)\n",
    "\n",
    "train_loader = torch.utils.data.DataLoader(train_dataset, batch_size=batch_size)\n",
    "\n",
    "test_loader = torch.utils.data.DataLoader(\n",
    "    test_dataset, batch_size=batch_size, shuffle=False\n",
    ")"
   ],
   "metadata": {
    "collapsed": false
   }
  },
  {
   "cell_type": "code",
   "execution_count": 6,
   "outputs": [
    {
     "name": "stdout",
     "output_type": "stream",
     "text": [
      "Classifier Loaded\n"
     ]
    }
   ],
   "source": [
    "#### Model loading ######\n",
    "# Specification\n",
    "dim_latent = 4\n",
    "name = \"TestClassifier\"\n",
    "classifier_state_dict_path = os.path.join('..', 'TrainedModels', 'MNIST', 'Classifier_run0.pt') # TODO Need to loop over runs\n",
    "\n",
    "# Load\n",
    "encoder = EncoderMnist(dim_latent)\n",
    "\n",
    "classifier = ClassifierMnist(encoder, dim_latent, name)\n",
    "classifier.load_state_dict(torch.load(classifier_state_dict_path), strict=True)\n",
    "\n",
    "encoder = copy.deepcopy(classifier.encoder) # Necessary? Should check whether the load just modifies the original\n",
    "\n",
    "print(\"Classifier Loaded\")"
   ],
   "metadata": {
    "collapsed": false
   }
  },
  {
   "cell_type": "code",
   "execution_count": 7,
   "outputs": [],
   "source": [
    "# Instantiate GradShap For Encoder and Full Model\n",
    "# Note this code is directly from Captum - we need to\n",
    "# pass in our custom loss functions directly\n",
    "gradshap_encoder = GradientShap(encoder)\n",
    "gradshap_full_model = GradientShap(classifier)\n"
   ],
   "metadata": {
    "collapsed": false
   }
  },
  {
   "cell_type": "code",
   "execution_count": 15,
   "outputs": [],
   "source": [
    "baseline_image = torch.zeros((1, 1, 28, 28), device=device)"
   ],
   "metadata": {
    "collapsed": false
   }
  },
  {
   "cell_type": "code",
   "execution_count": 191,
   "outputs": [],
   "source": [
    "encoder_attributions = attribute_auxiliary(\n",
    "                        encoder, test_loader, device, gradshap_encoder, baseline_image\n",
    "                    )\n",
    "\n",
    "# Note that this is the correct thing to do here because\n",
    "pipeline_attributions = attribute_auxiliary(\n",
    "    classifier, test_loader, device, gradshap_full_model, baseline_image\n",
    ")\n",
    "\n"
   ],
   "metadata": {
    "collapsed": false
   }
  },
  {
   "cell_type": "code",
   "execution_count": 194,
   "outputs": [
    {
     "data": {
      "text/plain": "count    784.000000\nmean      -0.014048\nstd        1.170224\nmin       -5.692860\n25%       -0.091688\n50%        0.000000\n75%        0.052898\nmax        6.521242\ndtype: float64"
     },
     "execution_count": 194,
     "metadata": {},
     "output_type": "execute_result"
    }
   ],
   "source": [
    "pd.Series(encoder_attributions.mean(axis=0).flatten()).describe()"
   ],
   "metadata": {
    "collapsed": false
   }
  },
  {
   "cell_type": "code",
   "execution_count": 195,
   "outputs": [
    {
     "data": {
      "text/plain": "count    784.000000\nmean       0.000006\nstd        0.000314\nmin       -0.001668\n25%       -0.000022\n50%        0.000000\n75%        0.000041\nmax        0.002730\ndtype: float64"
     },
     "execution_count": 195,
     "metadata": {},
     "output_type": "execute_result"
    }
   ],
   "source": [
    "pd.Series(pipeline_attributions.mean(axis=0).flatten()).describe()"
   ],
   "metadata": {
    "collapsed": false
   }
  },
  {
   "cell_type": "code",
   "execution_count": 210,
   "outputs": [],
   "source": [
    "# Cast each one to absolute value, since we're not interested in the direction on the hidden space\n",
    "encoder_attributions = np.abs(encoder_attributions)\n",
    "pipeline_attributions = np.abs(pipeline_attributions)\n",
    "\n",
    "# Normalise each one to have variance 1\n",
    "encoder_attributions = encoder_attributions/np.std(encoder_attributions)\n",
    "pipeline_attributions = pipeline_attributions/np.std(pipeline_attributions)\n"
   ],
   "metadata": {
    "collapsed": false
   }
  },
  {
   "cell_type": "code",
   "execution_count": 211,
   "outputs": [
    {
     "data": {
      "text/plain": "Text(0.5, 1.0, 'Classifier Saliency Map')"
     },
     "execution_count": 211,
     "metadata": {},
     "output_type": "execute_result"
    },
    {
     "data": {
      "text/plain": "<Figure size 1500x600 with 2 Axes>",
      "image/png": "[encoded data removed]"
     },
     "metadata": {},
     "output_type": "display_data"
    }
   ],
   "source": [
    "fig, ax = plt.subplots(1, 2, sharey=True, figsize=[15, 6])\n",
    "ax[0].imshow(encoder_attributions.mean(axis=0).squeeze(), cmap='gray')\n",
    "ax[0].set_title('Encoder Saliency Map')\n",
    "\n",
    "ax[1].imshow(pipeline_attributions.mean(axis=0).squeeze(), cmap='gray')\n",
    "ax[1].set_title('Classifier Saliency Map')\n"
   ],
   "metadata": {
    "collapsed": false
   }
  },
  {
   "cell_type": "code",
   "execution_count": 212,
   "outputs": [
    {
     "data": {
      "text/plain": "array([[1.        , 0.24141393],\n       [0.24141393, 1.        ]])"
     },
     "execution_count": 212,
     "metadata": {},
     "output_type": "execute_result"
    }
   ],
   "source": [
    "# Compute the pearson correlation between the maps\n",
    "# TODO we should also exclude constant/nearly constant pixels?\n",
    "\n",
    "# Is this correct?? Should double check.\n",
    "np.corrcoef(encoder_attributions.flatten(), pipeline_attributions.flatten())"
   ],
   "metadata": {
    "collapsed": false
   }
  },
  {
   "cell_type": "code",
   "execution_count": 213,
   "outputs": [
    {
     "data": {
      "text/plain": "(array([411.,  73.,  66.,  41.,  37.,  19.,  10.,   9.,   1.,   1.]),\n array([2.00850239e-10, 2.44970754e-01, 4.89941508e-01, 7.34912276e-01,\n        9.79883015e-01, 1.22485375e+00, 1.46982455e+00, 1.71479523e+00,\n        1.95976603e+00, 2.20473671e+00, 2.44970751e+00]),\n <BarContainer object of 10 artists>)"
     },
     "execution_count": 213,
     "metadata": {},
     "output_type": "execute_result"
    },
    {
     "data": {
      "text/plain": "<Figure size 640x480 with 1 Axes>",
      "image/png": "[encoded data removed]"
     },
     "metadata": {},
     "output_type": "display_data"
    }
   ],
   "source": [
    "dots = (encoder_attributions*pipeline_attributions).mean(axis=0).squeeze()\n",
    "dots = dots[dots > 0]\n",
    "\n",
    "plt.hist(dots.flatten())"
   ],
   "metadata": {
    "collapsed": false
   }
  },
  {
   "cell_type": "code",
   "execution_count": 214,
   "outputs": [
    {
     "data": {
      "text/plain": "<matplotlib.colorbar.Colorbar at 0x1ee8263eb80>"
     },
     "execution_count": 214,
     "metadata": {},
     "output_type": "execute_result"
    },
    {
     "data": {
      "text/plain": "<Figure size 640x480 with 2 Axes>",
      "image/png": "[encoded data removed]"
     },
     "metadata": {},
     "output_type": "display_data"
    }
   ],
   "source": [
    "plt.imshow((encoder_attributions*pipeline_attributions).mean(axis=0).squeeze(), cmap='gray_r')\n",
    "plt.colorbar()"
   ],
   "metadata": {
    "collapsed": false
   }
  },
  {
   "cell_type": "markdown",
   "source": [
    "#### Excluding constant pixels - NOTE probably not needed\n",
    "\n",
    "We want to exclude pixels that are always (or almost always) black, since these will trivially be highly correlated between all methods. In the following, we mask out pixels that never have a positive feature importance value."
   ],
   "metadata": {
    "collapsed": false
   }
  },
  {
   "cell_type": "code",
   "execution_count": 103,
   "outputs": [],
   "source": [
    "# Cod to mask out constant pixels with nan\n",
    "# TODO convert this to a function\n",
    "\n",
    "# Concatenate all the data\n",
    "cats = [X for X, y in test_loader]\n",
    "y = [y for X, y in test_loader]\n",
    "cats = np.concatenate(cats)\n",
    "\n",
    "mask = cats.max(axis=0) == cats.min(axis=0) # Identify all constant pixels\n",
    "mask = mask[np.newaxis, ...] # Create a new axis to tile back across\n",
    "mask = np.repeat(mask, cats.shape[0], axis=0) # Fill out dimensions of the new axis\n",
    "cats[mask] = np.nan # Mask out constant pixels"
   ],
   "metadata": {
    "collapsed": false
   }
  },
  {
   "cell_type": "code",
   "execution_count": 104,
   "outputs": [
    {
     "data": {
      "text/plain": "<matplotlib.image.AxesImage at 0x1eecdfe7a90>"
     },
     "execution_count": 104,
     "metadata": {},
     "output_type": "execute_result"
    },
    {
     "data": {
      "text/plain": "<Figure size 640x480 with 1 Axes>",
      "image/png": "[encoded data removed]"
     },
     "metadata": {},
     "output_type": "display_data"
    }
   ],
   "source": [
    "plt.imshow(cats[0, 0])"
   ],
   "metadata": {
    "collapsed": false
   }
  },
  {
   "cell_type": "code",
   "execution_count": 108,
   "outputs": [],
   "source": [
    "class MaskedData(Dataset):\n",
    "    # TODO this feels insane - maybe someone knows an easier way\n",
    "    def __init__(self, masked_data, labels, transform):\n",
    "        self._data = masked_data\n",
    "        self._labels = labels\n",
    "        self.transform = transform\n",
    "\n",
    "    def __getitem__(self, idx):\n",
    "        X = self._data[idx]\n",
    "        X = self.transform(X)\n",
    "        y = self._labels[idx]\n",
    "        return X, y"
   ],
   "metadata": {
    "collapsed": false
   }
  },
  {
   "cell_type": "code",
   "execution_count": 110,
   "outputs": [],
   "source": [
    "# Now we have to load it back into a dataloader to recyle the old functions\n",
    "masked_data = MaskedData(cats, y, transform=shared_transform)\n",
    "masked_loader = DataLoader(masked_data, batch_size=batch_size)"
   ],
   "metadata": {
    "collapsed": false
   }
  },
  {
   "cell_type": "markdown",
   "source": [],
   "metadata": {
    "collapsed": false
   }
  }
 ],
 "metadata": {
  "kernelspec": {
   "display_name": "Python 3",
   "language": "python",
   "name": "python3"
  },
  "language_info": {
   "codemirror_mode": {
    "name": "ipython",
    "version": 2
   },
   "file_extension": ".py",
   "mimetype": "text/x-python",
   "name": "python",
   "nbconvert_exporter": "python",
   "pygments_lexer": "ipython2",
   "version": "2.7.6"
  }
 },
 "nbformat": 4,
 "nbformat_minor": 0
}
