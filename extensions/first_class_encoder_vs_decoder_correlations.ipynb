{
 "cells": [
  {
   "cell_type": "code",
   "execution_count": 7,
   "metadata": {
    "collapsed": true
   },
   "outputs": [],
   "source": [
    "from encoder_decoder_correlations import EncoderDecoderComparison\n",
    "import torch\n",
    "from lfxai.models.images import ClassifierMnist, EncoderMnist\n",
    "import os\n",
    "import copy\n",
    "\n",
    "from captum.attr import GradientShap, IntegratedGradients, Saliency"
   ]
  },
  {
   "cell_type": "code",
   "execution_count": 2,
   "outputs": [],
   "source": [
    "# Define globals\n",
    "DEVICE = 'gpu' if torch.cuda.is_available() else 'cpu'"
   ],
   "metadata": {
    "collapsed": false
   }
  },
  {
   "cell_type": "code",
   "execution_count": 3,
   "outputs": [
    {
     "name": "stdout",
     "output_type": "stream",
     "text": [
      "Classifier Loaded\n"
     ]
    }
   ],
   "source": [
    "#### Model loading ######\n",
    "# Specification\n",
    "dim_latent = 4\n",
    "name = \"TestClassifier\"\n",
    "classifier_state_dict_path = os.path.join('..', 'TrainedModels', 'MNIST', 'Classifier_run0.pt') # TODO Need to loop over runs\n",
    "\n",
    "# Load\n",
    "encoder = EncoderMnist(dim_latent)\n",
    "\n",
    "classifier = ClassifierMnist(encoder, dim_latent, name)\n",
    "classifier.load_state_dict(torch.load(classifier_state_dict_path), strict=True)\n",
    "\n",
    "encoder = copy.deepcopy(classifier.encoder) # Copies the params to the encoder variable\n",
    "\n",
    "print(\"Classifier Loaded\")"
   ],
   "metadata": {
    "collapsed": false
   }
  },
  {
   "cell_type": "markdown",
   "source": [
    "## Gradshap"
   ],
   "metadata": {
    "collapsed": false
   }
  },
  {
   "cell_type": "code",
   "execution_count": 4,
   "outputs": [
    {
     "name": "stdout",
     "output_type": "stream",
     "text": [
      "Calculating Attributions\n",
      "attributions calculated\n"
     ]
    }
   ],
   "source": [
    "gradshap_full_model = GradientShap(classifier)\n",
    "gradshap_encoder = GradientShap(encoder)\n",
    "\n",
    "gradient_shap_experiment = EncoderDecoderComparison(\n",
    "    model_name=\"\",\n",
    "    full_model=classifier,\n",
    "    encoder = encoder,\n",
    "    full_model_attributer=gradshap_full_model,\n",
    "    encoder_attributer=gradshap_encoder,\n",
    "    dataset='MNIST',\n",
    "    device = DEVICE,\n",
    ")"
   ],
   "metadata": {
    "collapsed": false
   }
  },
  {
   "cell_type": "code",
   "execution_count": 5,
   "outputs": [],
   "source": [
    "gradient_shap_image_pearsons = gradient_shap_experiment.get_all_image_pearsons()\n",
    "gradient_shap_image_pearsons.mean() # Delete - just checking that this looks approximately correct"
   ],
   "metadata": {
    "collapsed": false
   }
  },
  {
   "cell_type": "markdown",
   "source": [
    "## Integrated Gradients"
   ],
   "metadata": {
    "collapsed": false
   }
  },
  {
   "cell_type": "code",
   "execution_count": 8,
   "outputs": [
    {
     "name": "stdout",
     "output_type": "stream",
     "text": [
      "Calculating Attributions\n",
      "attributions calculated\n"
     ]
    }
   ],
   "source": [
    "ig_full_model = IntegratedGradients(classifier)\n",
    "ig_encoder = IntegratedGradients(encoder)\n",
    "\n",
    "ig_experiment = EncoderDecoderComparison(\n",
    "    model_name=\"\",\n",
    "    full_model=classifier,\n",
    "    encoder = encoder,\n",
    "    full_model_attributer=ig_full_model,\n",
    "    encoder_attributer=ig_encoder,\n",
    "    dataset='MNIST',\n",
    "    device = DEVICE,\n",
    ")"
   ],
   "metadata": {
    "collapsed": false
   }
  },
  {
   "cell_type": "code",
   "execution_count": 16,
   "outputs": [
    {
     "data": {
      "text/plain": "0.2243376760550648"
     },
     "execution_count": 16,
     "metadata": {},
     "output_type": "execute_result"
    }
   ],
   "source": [
    "ig_pearsons = ig_experiment.get_all_image_pearsons()\n",
    "ig_pearsons.mean()**2 # Delete - just checking that this looks approximately correct"
   ],
   "metadata": {
    "collapsed": false
   }
  },
  {
   "cell_type": "markdown",
   "source": [
    "## Saliency"
   ],
   "metadata": {
    "collapsed": false
   }
  },
  {
   "cell_type": "code",
   "execution_count": 20,
   "outputs": [
    {
     "name": "stdout",
     "output_type": "stream",
     "text": [
      "Calculating Attributions\n"
     ]
    },
    {
     "name": "stderr",
     "output_type": "stream",
     "text": [
      "C:\\Users\\niksm\\Documents\\CodeForUni\\FACT\\venv\\lib\\site-packages\\captum\\_utils\\gradient.py:57: UserWarning: Input Tensor 0 did not already require gradients, required_grads has been set automatically.\n",
      "  warnings.warn(\n"
     ]
    },
    {
     "name": "stdout",
     "output_type": "stream",
     "text": [
      "attributions calculated\n"
     ]
    }
   ],
   "source": [
    "sal_full_model = Saliency(classifier)\n",
    "sal_encoder = Saliency(encoder)\n",
    "\n",
    "sal_experiment = EncoderDecoderComparison(\n",
    "    model_name=\"\",\n",
    "    full_model=classifier,\n",
    "    encoder = encoder,\n",
    "    full_model_attributer=sal_full_model,\n",
    "    encoder_attributer=sal_encoder,\n",
    "    dataset='MNIST',\n",
    "    device = DEVICE,\n",
    ")"
   ],
   "metadata": {
    "collapsed": false
   }
  },
  {
   "cell_type": "code",
   "execution_count": 23,
   "outputs": [
    {
     "data": {
      "text/plain": "0.13540589165468833"
     },
     "execution_count": 23,
     "metadata": {},
     "output_type": "execute_result"
    }
   ],
   "source": [
    "sal_pearsons = sal_experiment.get_all_image_pearsons()\n",
    "sal_pearsons.mean()"
   ],
   "metadata": {
    "collapsed": false
   }
  }
 ],
 "metadata": {
  "kernelspec": {
   "display_name": "Python 3",
   "language": "python",
   "name": "python3"
  },
  "language_info": {
   "codemirror_mode": {
    "name": "ipython",
    "version": 2
   },
   "file_extension": ".py",
   "mimetype": "text/x-python",
   "name": "python",
   "nbconvert_exporter": "python",
   "pygments_lexer": "ipython2",
   "version": "2.7.6"
  }
 },
 "nbformat": 4,
 "nbformat_minor": 0
}
