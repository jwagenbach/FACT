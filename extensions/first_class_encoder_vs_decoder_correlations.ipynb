{
 "cells": [
  {
   "cell_type": "code",
   "execution_count": null,
   "metadata": {},
   "outputs": [],
   "source": [
    "%cd ../"
   ]
  },
  {
   "cell_type": "code",
   "execution_count": 1,
   "metadata": {},
   "outputs": [
    {
     "name": "stderr",
     "output_type": "stream",
     "text": [
      "/home/laurens/Desktop/FACT/Label-Free-XAI/my_env/lib/python3.8/site-packages/tqdm/auto.py:22: TqdmWarning: IProgress not found. Please update jupyter and ipywidgets. See https://ipywidgets.readthedocs.io/en/stable/user_install.html\n",
      "  from .autonotebook import tqdm as notebook_tqdm\n"
     ]
    }
   ],
   "source": [
    "from extensions.encoder_decoder_correlations import EncoderDecoderComparison\n",
    "import torch\n",
    "\n",
    "from captum.attr import GradientShap, IntegratedGradients, Saliency"
   ]
  },
  {
   "cell_type": "code",
   "execution_count": 2,
   "metadata": {},
   "outputs": [],
   "source": [
    "# Define globals\n",
    "DEVICE = torch.device('cuda' if torch.cuda.is_available() else 'cpu')"
   ]
  },
  {
   "cell_type": "markdown",
   "metadata": {},
   "source": [
    "## Gradshap"
   ]
  },
  {
   "cell_type": "code",
   "execution_count": 3,
   "metadata": {},
   "outputs": [
    {
     "name": "stdout",
     "output_type": "stream",
     "text": [
      "Loading data...\n",
      "Loading Models and Calculating Attributions...\n",
      "Loading model in ../TrainedModels/MNIST/Classifier_run1.pt\n",
      "Loading model in ../TrainedModels/MNIST/Classifier_run0.pt\n",
      "Loading model in ../TrainedModels/MNIST/Classifier_run2.pt\n",
      "Loading model in ../TrainedModels/MNIST/Classifier_run3.pt\n",
      "Loading model in ../TrainedModels/MNIST/Classifier_run4.pt\n",
      "Complete\n"
     ]
    }
   ],
   "source": [
    "gradient_shap_experiment = EncoderDecoderComparison(\n",
    "    model_name=\"\",\n",
    "    attributer_factory=GradientShap,\n",
    "    dataset='MNIST',\n",
    "    device = DEVICE,\n",
    ")"
   ]
  },
  {
   "cell_type": "code",
   "execution_count": 4,
   "metadata": {},
   "outputs": [],
   "source": [
    "res = gradient_shap_experiment.get_all_model_pearsons(True)"
   ]
  },
  {
   "cell_type": "code",
   "execution_count": 5,
   "metadata": {},
   "outputs": [
    {
     "name": "stdout",
     "output_type": "stream",
     "text": [
      "[0.3503069  0.32580192 0.32778726 0.36071626 0.32253383]\n"
     ]
    }
   ],
   "source": [
    "print(res.mean(axis=1))\n",
    "\n"
   ]
  },
  {
   "cell_type": "markdown",
   "metadata": {},
   "source": [
    "## Integrated Gradients"
   ]
  },
  {
   "cell_type": "code",
   "execution_count": 6,
   "metadata": {},
   "outputs": [
    {
     "name": "stdout",
     "output_type": "stream",
     "text": [
      "Loading data...\n",
      "Loading Models and Calculating Attributions...\n",
      "Loading model in ../TrainedModels/MNIST/Classifier_run1.pt\n",
      "Loading model in ../TrainedModels/MNIST/Classifier_run0.pt\n",
      "Loading model in ../TrainedModels/MNIST/Classifier_run2.pt\n",
      "Loading model in ../TrainedModels/MNIST/Classifier_run3.pt\n",
      "Loading model in ../TrainedModels/MNIST/Classifier_run4.pt\n",
      "Complete\n"
     ]
    }
   ],
   "source": [
    "ig_experiment = EncoderDecoderComparison(\n",
    "    model_name=\"\",\n",
    "    attributer_factory=IntegratedGradients,\n",
    "    dataset='MNIST',\n",
    "    device = DEVICE,\n",
    ")"
   ]
  },
  {
   "cell_type": "code",
   "execution_count": 7,
   "metadata": {},
   "outputs": [
    {
     "data": {
      "text/plain": [
       "array([0.39079937, 0.47364313, 0.45926487, 0.42462469, 0.41964185])"
      ]
     },
     "execution_count": 7,
     "metadata": {},
     "output_type": "execute_result"
    }
   ],
   "source": [
    "ig_pearsons = ig_experiment.get_all_model_pearsons(True)\n",
    "ig_pearsons.mean(axis=1)"
   ]
  },
  {
   "cell_type": "markdown",
   "metadata": {},
   "source": [
    "## Saliency"
   ]
  },
  {
   "cell_type": "code",
   "execution_count": 8,
   "metadata": {},
   "outputs": [
    {
     "name": "stdout",
     "output_type": "stream",
     "text": [
      "Loading data...\n",
      "Loading Models and Calculating Attributions...\n",
      "Loading model in ../TrainedModels/MNIST/Classifier_run1.pt\n"
     ]
    },
    {
     "name": "stderr",
     "output_type": "stream",
     "text": [
      "/home/laurens/Desktop/FACT/Label-Free-XAI/my_env/lib/python3.8/site-packages/captum/_utils/gradient.py:57: UserWarning: Input Tensor 0 did not already require gradients, required_grads has been set automatically.\n",
      "  warnings.warn(\n"
     ]
    },
    {
     "name": "stdout",
     "output_type": "stream",
     "text": [
      "Loading model in ../TrainedModels/MNIST/Classifier_run0.pt\n",
      "Loading model in ../TrainedModels/MNIST/Classifier_run2.pt\n",
      "Loading model in ../TrainedModels/MNIST/Classifier_run3.pt\n",
      "Loading model in ../TrainedModels/MNIST/Classifier_run4.pt\n",
      "Complete\n"
     ]
    }
   ],
   "source": [
    "sal_experiment = EncoderDecoderComparison(\n",
    "    model_name=\"\",\n",
    "    attributer_factory=Saliency,\n",
    "    dataset='MNIST',\n",
    "    device = DEVICE,\n",
    ")"
   ]
  },
  {
   "cell_type": "code",
   "execution_count": 9,
   "metadata": {},
   "outputs": [
    {
     "data": {
      "text/plain": [
       "array([0.21530681, 0.13549975, 0.16179986, 0.16258512, 0.20697079])"
      ]
     },
     "execution_count": 9,
     "metadata": {},
     "output_type": "execute_result"
    }
   ],
   "source": [
    "sal_pearsons = sal_experiment.get_all_model_pearsons(True)\n",
    "sal_pearsons.mean(axis=1)"
   ]
  },
  {
   "cell_type": "code",
   "execution_count": null,
   "metadata": {},
   "outputs": [],
   "source": []
  }
 ],
 "metadata": {
  "kernelspec": {
   "display_name": "my_env",
   "language": "python",
   "name": "my_env"
  },
  "language_info": {
   "codemirror_mode": {
    "name": "ipython",
    "version": 3
   },
   "file_extension": ".py",
   "mimetype": "text/x-python",
   "name": "python",
   "nbconvert_exporter": "python",
   "pygments_lexer": "ipython3",
   "version": "3.8.10"
  }
 },
 "nbformat": 4,
 "nbformat_minor": 1
}
