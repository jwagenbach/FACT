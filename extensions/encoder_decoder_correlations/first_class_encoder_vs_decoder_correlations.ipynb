{
 "cells": [
  {
   "cell_type": "code",
   "execution_count": null,
   "metadata": {},
   "outputs": [],
   "source": [
    "from encoder_decoder_correlations import EncoderDecoderComparison\n",
    "import torch\n",
    "\n",
    "from captum.attr import GradientShap, IntegratedGradients, Saliency\n",
    "import pandas as pd\n",
    "import numpy as np"
   ]
  },
  {
   "cell_type": "code",
   "execution_count": null,
   "metadata": {},
   "outputs": [],
   "source": [
    "# Define globals\n",
    "DEVICE = torch.device('cuda' if torch.cuda.is_available() else 'cpu')"
   ]
  },
  {
   "cell_type": "markdown",
   "metadata": {},
   "source": [
    "## Gradshap"
   ]
  },
  {
   "cell_type": "code",
   "execution_count": null,
   "metadata": {},
   "outputs": [],
   "source": [
    "gradient_shap_experiment = EncoderDecoderComparison(\n",
    "    model_name=\"\",\n",
    "    attributer_factory=GradientShap,\n",
    "    dataset='MNIST',\n",
    "    device = DEVICE,\n",
    ")"
   ]
  },
  {
   "cell_type": "code",
   "execution_count": null,
   "metadata": {},
   "outputs": [],
   "source": [
    "gs_pearsons = gradient_shap_experiment.get_all_model_pearsons(True)"
   ]
  },
  {
   "cell_type": "code",
   "execution_count": null,
   "metadata": {},
   "outputs": [],
   "source": [
    "gs_pearsons_mean = gs_pearsons.mean(axis=1)"
   ]
  },
  {
   "cell_type": "markdown",
   "metadata": {},
   "source": [
    "## Integrated Gradients"
   ]
  },
  {
   "cell_type": "code",
   "execution_count": null,
   "metadata": {},
   "outputs": [],
   "source": [
    "ig_experiment = EncoderDecoderComparison(\n",
    "    model_name=\"\",\n",
    "    attributer_factory=IntegratedGradients,\n",
    "    dataset='MNIST',\n",
    "    device = DEVICE,\n",
    ")"
   ]
  },
  {
   "cell_type": "code",
   "execution_count": null,
   "metadata": {},
   "outputs": [],
   "source": [
    "ig_pearsons = ig_experiment.get_all_model_pearsons(True)\n",
    "ig_pearsons_mean = ig_pearsons.mean(axis=1)\n",
    "ig_pearsons_mean"
   ]
  },
  {
   "cell_type": "markdown",
   "metadata": {},
   "source": [
    "## Saliency"
   ]
  },
  {
   "cell_type": "code",
   "execution_count": null,
   "metadata": {},
   "outputs": [],
   "source": [
    "sal_experiment = EncoderDecoderComparison(\n",
    "    model_name=\"\",\n",
    "    attributer_factory=Saliency,\n",
    "    dataset='MNIST',\n",
    "    device = DEVICE,\n",
    ")"
   ]
  },
  {
   "cell_type": "code",
   "execution_count": null,
   "metadata": {},
   "outputs": [],
   "source": [
    "sal_pearsons = sal_experiment.get_all_model_pearsons(True)\n",
    "sal_pearsons_mean = sal_pearsons.mean(axis=1)\n",
    "sal_pearsons_mean"
   ]
  },
  {
   "cell_type": "markdown",
   "source": [
    "### Plot results for paper"
   ],
   "metadata": {
    "collapsed": false
   }
  },
  {
   "cell_type": "code",
   "execution_count": null,
   "outputs": [],
   "source": [
    "# # Note this is done to load the results without rerunning the experiment - leave commented out if\n",
    "# # Done from scatch\n",
    "ig_pearsons_mean = np.array([0.39079937, 0.47364313, 0.45926487, 0.42462469, 0.41964185])\n",
    "sal_pearsons_mean = np.array([0.21530681, 0.13549975, 0.16179986, 0.16258512, 0.20697079])\n",
    "gs_pearsons_mean = np.array([0.3503069, 0.32580192, 0.32778726, 0.36071626, 0.32253383])"
   ],
   "metadata": {
    "collapsed": false
   }
  },
  {
   "cell_type": "code",
   "execution_count": null,
   "outputs": [],
   "source": [
    "# One can either plot R-squared (proportion of variance explained) or the raw pearson correelation coefficient\n",
    "PLOT_R_SQUARED = False\n",
    "\n",
    "data = {'Integrated Gradients': ig_pearsons_mean,\n",
    "        'Saliency': sal_pearsons_mean,\n",
    "        'Gradient Shap': gs_pearsons_mean}\n",
    "\n",
    "df = pd.DataFrame.from_dict(data)\n",
    "\n",
    "if PLOT_R_SQUARED:\n",
    "    df = df**2 # Convert to R2 values\n",
    "df.index.name = 'Run'"
   ],
   "metadata": {
    "collapsed": false
   }
  },
  {
   "cell_type": "code",
   "execution_count": null,
   "outputs": [],
   "source": [
    "# Compute means and error bars\n",
    "agg_df = df.agg(['mean', 'sem']).T\n",
    "agg_df['ci_width'] =+1.96*agg_df['sem']\n",
    "agg_df['upper_ci'] = agg_df['mean'] + agg_df['ci_width']\n",
    "agg_df['lower_ci'] = agg_df['mean'] - agg_df['ci_width']\n",
    "\n",
    "# agg_df = agg_df.T"
   ],
   "metadata": {
    "collapsed": false
   }
  },
  {
   "cell_type": "code",
   "execution_count": null,
   "outputs": [],
   "source": [
    "ylabel = 'R-squared' if PLOT_R_SQUARED else 'Pearson Correlation Coefficient'\n",
    "agg_df.plot(y='mean',\n",
    "            kind='bar',\n",
    "            rot=0,\n",
    "            ylabel=ylabel,\n",
    "            yerr=agg_df['ci_width'],\n",
    "            legend=False,\n",
    "            # ylim=(0, 1),\n",
    "            )"
   ],
   "metadata": {
    "collapsed": false
   }
  },
  {
   "cell_type": "code",
   "execution_count": null,
   "outputs": [],
   "source": [
    "agg_df"
   ],
   "metadata": {
    "collapsed": false
   }
  },
  {
   "cell_type": "code",
   "execution_count": null,
   "outputs": [],
   "source": [],
   "metadata": {
    "collapsed": false
   }
  }
 ],
 "metadata": {
  "kernelspec": {
   "name": "python3",
   "language": "python",
   "display_name": "Python 3 (ipykernel)"
  },
  "language_info": {
   "codemirror_mode": {
    "name": "ipython",
    "version": 3
   },
   "file_extension": ".py",
   "mimetype": "text/x-python",
   "name": "python",
   "nbconvert_exporter": "python",
   "pygments_lexer": "ipython3",
   "version": "3.8.10"
  }
 },
 "nbformat": 4,
 "nbformat_minor": 1
}
