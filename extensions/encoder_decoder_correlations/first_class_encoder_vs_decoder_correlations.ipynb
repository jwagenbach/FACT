{
 "cells": [
  {
   "cell_type": "code",
   "execution_count": 2,
   "metadata": {},
   "outputs": [],
   "source": [
    "from encoder_decoder_correlations import EncoderDecoderComparison\n",
    "import torch\n",
    "\n",
    "from captum.attr import GradientShap, IntegratedGradients, Saliency\n",
    "import pandas as pd\n",
    "import numpy as np"
   ]
  },
  {
   "cell_type": "code",
   "execution_count": 2,
   "metadata": {},
   "outputs": [],
   "source": [
    "# Define globals\n",
    "DEVICE = torch.device('cuda' if torch.cuda.is_available() else 'cpu')"
   ]
  },
  {
   "cell_type": "markdown",
   "metadata": {},
   "source": [
    "## Gradshap"
   ]
  },
  {
   "cell_type": "code",
   "execution_count": 3,
   "metadata": {},
   "outputs": [
    {
     "name": "stdout",
     "output_type": "stream",
     "text": [
      "Loading data...\n",
      "Loading Models and Calculating Attributions...\n",
      "Loading model in ../TrainedModels/MNIST/Classifier_run1.pt\n",
      "Loading model in ../TrainedModels/MNIST/Classifier_run0.pt\n",
      "Loading model in ../TrainedModels/MNIST/Classifier_run2.pt\n",
      "Loading model in ../TrainedModels/MNIST/Classifier_run3.pt\n",
      "Loading model in ../TrainedModels/MNIST/Classifier_run4.pt\n",
      "Complete\n"
     ]
    }
   ],
   "source": [
    "gradient_shap_experiment = EncoderDecoderComparison(\n",
    "    model_name=\"\",\n",
    "    attributer_factory=GradientShap,\n",
    "    dataset='MNIST',\n",
    "    device = DEVICE,\n",
    ")"
   ]
  },
  {
   "cell_type": "code",
   "execution_count": 4,
   "metadata": {},
   "outputs": [],
   "source": [
    "gs_pearsons = gradient_shap_experiment.get_all_model_pearsons(True)"
   ]
  },
  {
   "cell_type": "code",
   "execution_count": 5,
   "metadata": {},
   "outputs": [
    {
     "name": "stdout",
     "output_type": "stream",
     "text": [
      "[0.3503069  0.32580192 0.32778726 0.36071626 0.32253383]\n"
     ]
    }
   ],
   "source": [
    "gs_pearsons_mean = gs_pearsons.mean(axis=1)"
   ]
  },
  {
   "cell_type": "markdown",
   "metadata": {},
   "source": [
    "## Integrated Gradients"
   ]
  },
  {
   "cell_type": "code",
   "execution_count": 6,
   "metadata": {},
   "outputs": [
    {
     "name": "stdout",
     "output_type": "stream",
     "text": [
      "Loading data...\n",
      "Loading Models and Calculating Attributions...\n",
      "Loading model in ../TrainedModels/MNIST/Classifier_run1.pt\n",
      "Loading model in ../TrainedModels/MNIST/Classifier_run0.pt\n",
      "Loading model in ../TrainedModels/MNIST/Classifier_run2.pt\n",
      "Loading model in ../TrainedModels/MNIST/Classifier_run3.pt\n",
      "Loading model in ../TrainedModels/MNIST/Classifier_run4.pt\n",
      "Complete\n"
     ]
    }
   ],
   "source": [
    "ig_experiment = EncoderDecoderComparison(\n",
    "    model_name=\"\",\n",
    "    attributer_factory=IntegratedGradients,\n",
    "    dataset='MNIST',\n",
    "    device = DEVICE,\n",
    ")"
   ]
  },
  {
   "cell_type": "code",
   "execution_count": 7,
   "metadata": {},
   "outputs": [
    {
     "data": {
      "text/plain": [
       "array([0.39079937, 0.47364313, 0.45926487, 0.42462469, 0.41964185])"
      ]
     },
     "execution_count": 7,
     "metadata": {},
     "output_type": "execute_result"
    }
   ],
   "source": [
    "ig_pearsons_mean = ig_experiment.get_all_model_pearsons(True)\n",
    "ig_pearsons_mean = ig_pearsons.mean(axis=1)\n",
    "ig_pearsons_mean"
   ]
  },
  {
   "cell_type": "markdown",
   "metadata": {},
   "source": [
    "## Saliency"
   ]
  },
  {
   "cell_type": "code",
   "execution_count": 8,
   "metadata": {},
   "outputs": [
    {
     "name": "stdout",
     "output_type": "stream",
     "text": [
      "Loading data...\n",
      "Loading Models and Calculating Attributions...\n",
      "Loading model in ../TrainedModels/MNIST/Classifier_run1.pt\n"
     ]
    },
    {
     "name": "stderr",
     "output_type": "stream",
     "text": [
      "/home/laurens/Desktop/FACT/Label-Free-XAI/my_env/lib/python3.8/site-packages/captum/_utils/gradient.py:57: UserWarning: Input Tensor 0 did not already require gradients, required_grads has been set automatically.\n",
      "  warnings.warn(\n"
     ]
    },
    {
     "name": "stdout",
     "output_type": "stream",
     "text": [
      "Loading model in ../TrainedModels/MNIST/Classifier_run0.pt\n",
      "Loading model in ../TrainedModels/MNIST/Classifier_run2.pt\n",
      "Loading model in ../TrainedModels/MNIST/Classifier_run3.pt\n",
      "Loading model in ../TrainedModels/MNIST/Classifier_run4.pt\n",
      "Complete\n"
     ]
    }
   ],
   "source": [
    "sal_experiment = EncoderDecoderComparison(\n",
    "    model_name=\"\",\n",
    "    attributer_factory=Saliency,\n",
    "    dataset='MNIST',\n",
    "    device = DEVICE,\n",
    ")"
   ]
  },
  {
   "cell_type": "code",
   "execution_count": 9,
   "metadata": {},
   "outputs": [
    {
     "data": {
      "text/plain": [
       "array([0.21530681, 0.13549975, 0.16179986, 0.16258512, 0.20697079])"
      ]
     },
     "execution_count": 9,
     "metadata": {},
     "output_type": "execute_result"
    }
   ],
   "source": [
    "sal_pearsons = sal_experiment.get_all_model_pearsons(True)\n",
    "sal_pearsons_mean = sal_pearsons.mean(axis=1)\n",
    "sal_pearsons_mean"
   ]
  },
  {
   "cell_type": "markdown",
   "source": [
    "### Plot results for paper"
   ],
   "metadata": {
    "collapsed": false
   }
  },
  {
   "cell_type": "code",
   "execution_count": 7,
   "outputs": [],
   "source": [
    "# Note this is done to load the results without rerunning the experiment - leave commented out if\n",
    "# Done from scatch\n",
    "# ig_pearsons_mean = np.array([0.39079937, 0.47364313, 0.45926487, 0.42462469, 0.41964185])\n",
    "# sal_pearsons_mean = np.array([0.21530681, 0.13549975, 0.16179986, 0.16258512, 0.20697079])\n",
    "# gs_pearsons_mean = np.array([0.3503069, 0.32580192, 0.32778726, 0.36071626, 0.32253383])"
   ],
   "metadata": {
    "collapsed": false
   }
  },
  {
   "cell_type": "code",
   "execution_count": 39,
   "outputs": [],
   "source": [
    "# One can either plot R-squared (proportion of variance explained) or the raw pearson correelation coefficient\n",
    "PLOT_R_SQUARED = False\n",
    "\n",
    "data = {'Integrated Gradients': ig_pearsons_mean,\n",
    "        'Saliency': sal_pearsons_mean,\n",
    "        'Gradient Shap': gs_pearsons_mean}\n",
    "\n",
    "df = pd.DataFrame.from_dict(data)\n",
    "\n",
    "if PLOT_R_SQUARED:\n",
    "    df = df**2 # Convert to R2 values\n",
    "df.index.name = 'Run'"
   ],
   "metadata": {
    "collapsed": false
   }
  },
  {
   "cell_type": "code",
   "execution_count": 40,
   "outputs": [],
   "source": [
    "# Compute means and error bars\n",
    "agg_df = df.agg(['mean', 'sem']).T\n",
    "agg_df['ci_width'] =+1.96*agg_df['sem']\n",
    "agg_df['upper_ci'] = agg_df['mean'] + agg_df['ci_width']\n",
    "agg_df['lower_ci'] = agg_df['mean'] - agg_df['ci_width']\n",
    "\n",
    "# agg_df = agg_df.T"
   ],
   "metadata": {
    "collapsed": false
   }
  },
  {
   "cell_type": "code",
   "execution_count": 41,
   "outputs": [
    {
     "data": {
      "text/plain": "<AxesSubplot: ylabel='Pearson Correlation Coefficient'>"
     },
     "execution_count": 41,
     "metadata": {},
     "output_type": "execute_result"
    },
    {
     "data": {
      "text/plain": "<Figure size 640x480 with 1 Axes>",
      "image/png": "[encoded data removed]"
     },
     "metadata": {},
     "output_type": "display_data"
    }
   ],
   "source": [
    "ylabel = 'R-squared' if PLOT_R_SQUARED else 'Pearson Correlation Coefficient'\n",
    "agg_df.plot(y='mean',\n",
    "            kind='bar',\n",
    "            rot=0,\n",
    "            ylabel=ylabel,\n",
    "            yerr=agg_df['ci_width'],\n",
    "            legend=False,\n",
    "            ylim=(0, 1),\n",
    "            )"
   ],
   "metadata": {
    "collapsed": false
   }
  },
  {
   "cell_type": "code",
   "execution_count": 42,
   "outputs": [
    {
     "data": {
      "text/plain": "                          mean       sem  ci_width  upper_ci  lower_ci\nIntegrated Gradients  0.433595  0.014781  0.028970  0.462565  0.404624\nSaliency              0.176432  0.015042  0.029482  0.205915  0.146950\nGradient Shap         0.337429  0.007610  0.014915  0.352344  0.322514",
      "text/html": "<div>\n<style scoped>\n    .dataframe tbody tr th:only-of-type {\n        vertical-align: middle;\n    }\n\n    .dataframe tbody tr th {\n        vertical-align: top;\n    }\n\n    .dataframe thead th {\n        text-align: right;\n    }\n</style>\n<table border=\"1\" class=\"dataframe\">\n  <thead>\n    <tr style=\"text-align: right;\">\n      <th></th>\n      <th>mean</th>\n      <th>sem</th>\n      <th>ci_width</th>\n      <th>upper_ci</th>\n      <th>lower_ci</th>\n    </tr>\n  </thead>\n  <tbody>\n    <tr>\n      <th>Integrated Gradients</th>\n      <td>0.433595</td>\n      <td>0.014781</td>\n      <td>0.028970</td>\n      <td>0.462565</td>\n      <td>0.404624</td>\n    </tr>\n    <tr>\n      <th>Saliency</th>\n      <td>0.176432</td>\n      <td>0.015042</td>\n      <td>0.029482</td>\n      <td>0.205915</td>\n      <td>0.146950</td>\n    </tr>\n    <tr>\n      <th>Gradient Shap</th>\n      <td>0.337429</td>\n      <td>0.007610</td>\n      <td>0.014915</td>\n      <td>0.352344</td>\n      <td>0.322514</td>\n    </tr>\n  </tbody>\n</table>\n</div>"
     },
     "execution_count": 42,
     "metadata": {},
     "output_type": "execute_result"
    }
   ],
   "source": [
    "agg_df"
   ],
   "metadata": {
    "collapsed": false
   }
  },
  {
   "cell_type": "code",
   "execution_count": 41,
   "outputs": [],
   "source": [],
   "metadata": {
    "collapsed": false
   }
  }
 ],
 "metadata": {
  "kernelspec": {
   "name": "python3",
   "language": "python",
   "display_name": "Python 3 (ipykernel)"
  },
  "language_info": {
   "codemirror_mode": {
    "name": "ipython",
    "version": 3
   },
   "file_extension": ".py",
   "mimetype": "text/x-python",
   "name": "python",
   "nbconvert_exporter": "python",
   "pygments_lexer": "ipython3",
   "version": "3.8.10"
  }
 },
 "nbformat": 4,
 "nbformat_minor": 1
}
